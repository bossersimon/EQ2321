{
 "cells": [
  {
   "cell_type": "markdown",
   "id": "fd234dc7",
   "metadata": {},
   "source": [
    "# Assignment 2: Quantization and Speech Coding\n",
    "#### EQ2321 Speech and Audio Signal Processing\n",
    "\n",
    "Max. grade: 50"
   ]
  },
  {
   "cell_type": "markdown",
   "id": "ff47599f",
   "metadata": {},
   "source": [
    "# Introduction\n",
    "\n",
    "Throughout this assignment we will use the speech data in `data[\"speech8\"]` which is sampled at 8 kHz. `speech8` will be used both for tuning (training, optimizing) and evaluating the speech coders (evaluating on the training data is called closed test evaluation). Normally this is considered inappropriate (why?), but\n",
    "we accept it here for simplicity.\n",
    "You will frequently be asked to evaluate the SNR which is calculated like\n",
    "$SNR = 10 \\log 10 \\frac{\\sigma_x^2}{\\sigma_q^2}$, where $X(n)$ is input speech to the coder, and $q(n) =\n",
    "X(n) − \\hat{X}(n)$ is the quantization error, where $\\hat{X}(n)$ is the quantized speech.\n",
    "Thus, calculating the SNR amounts to estimating $\\sigma_x^2$, and $\\sigma_q^2$.\n",
    "Please note that the last part of the assignment may be the most time\n",
    "consuming. There you are asked to design a forward energy and filter adaptive\n",
    "DPCM coder and you are not given many instructions. Make sure you allocate\n",
    "enough time for this last part!"
   ]
  },
  {
   "cell_type": "markdown",
   "id": "746e6eae",
   "metadata": {},
   "source": [
    "## The Uniform Scalar Quantizer (4 pts)\n",
    "\n",
    "In this task we implement the simplest quantizer of all: the uniform scalar\n",
    "quantizer (USQ). USQs will be used frequently in this assignment.\n",
    "Encoding and transmission by USQ is sometimes called Pulse Code Modulation (PCM)."
   ]
  },
  {
   "cell_type": "code",
   "execution_count": 1,
   "id": "7b35dd73",
   "metadata": {},
   "outputs": [],
   "source": [
    "import pickle as pkl\n",
    "\n",
    "def read_assignment_file(fname):\n",
    "    with open(fname,\"rb\") as f:\n",
    "        d=pkl.load(f)\n",
    "    return d\n",
    "\n",
    "assignment_file = \"assignment2.pkl\"\n",
    "data=read_assignment_file(assignment_file)\n",
    "\n",
    "# the speech data is data[\"speech8\"]"
   ]
  },
  {
   "cell_type": "markdown",
   "id": "d0b5781f",
   "metadata": {},
   "source": [
    "### Question 1（2 pts)\n",
    "\n",
    "Implement a uniform scalar encoder:\n",
    "\n",
    "```python\n",
    "def sq_enc(xin, n_bits, xmax, m):\n",
    "    \"\"\"\n",
    "    xin is a vector with the original speech samples,\n",
    "    n_bits is the number of bits available to quantize one sample in the quantizer (i.e., the rate),\n",
    "    xmax and m define the range of the quantizer from m-xmax to m+xmax,\n",
    "       so that the width of each quantization interval is ∆ = 2 × xmax/L,\n",
    "           where L is the number of quantization intervals and corresponding reconstruction values.\n",
    "       m defines the mean (or offset) of the quantizer reconstruction levels.\n",
    "\n",
    "    The function should return the index of the chosen quantization level.\n",
    "    \"\"\"\n",
    "    return idx\n",
    "```\n",
    "\n",
    "Setting m = 0 defines a “midrise” quantizer, and m = $\\frac{\\Delta}{2}$ gives a \"midtread\" quantizer (see the course book sec. 7.2).\n",
    "\n",
    "\n",
    "Implement also the corresponding decoder function\n",
    "```python\n",
    "def sq_dec(idx, n_bits, xmax, m)\n",
    "    \"\"\"See sq_enc for the definition of the inputs.\n",
    "    outq is the vector with the quantized values for idx.\n",
    "    \"\"\"\n",
    "    \n",
    "    return outq\n",
    "```\n",
    "The USQ is a highly structured quantizer. The encoder can be imple-\n",
    "mented essentially by only a scalar division (no multiplications, compar-\n",
    "isons or loops are needed), making the computational complexity inde-\n",
    "pendent of the bitrate. Make sure your encoder has a computational\n",
    "complexity independent of the bitrate!\n"
   ]
  },
  {
   "cell_type": "markdown",
   "id": "02cd1734",
   "metadata": {},
   "source": [
    "### Question 2 (2 pts)\n",
    "\n",
    "Run the encoder and decoder on a ramp signal `x=np.linspace(-6,6,1201)`. Use a `2-bit` quantizer with $x_{max} = 4$. \n",
    "\n",
    "Plot the quantizer output as a function of the input. \n",
    "\n",
    "Make sure the output levels are exactly where you expect them to be.\n",
    "\n",
    "Use a quantizer mean $m=0$. Do a similar plot with $m=1.5$."
   ]
  },
  {
   "cell_type": "markdown",
   "id": "1db155b7",
   "metadata": {},
   "source": [
    "## Parametric Coding of Speech (23 pts)\n",
    "\n",
    "In this task we complete our design of the vocoder from assignment 1.\n",
    "Note that the speech used in this assignment is different from assignment 1 and if\n",
    "your vocoder analysis is not robust you may have to retune the analysis for this\n",
    "assignment.\n",
    "You are encouraged to use your vocoder from assignment 1. This means reuse the functions \"analysis\"..., \"synthesis\"...\n",
    "\n",
    "In practice, a speech coder must operate on a frame-by-frame basis, and transmit compressed data as quickly as possible in order to keep the delay short.\n",
    "However, you may have implemented your vocoder in an off-line fashion (the pitch estimator is easier to implement like that for example). \n"
   ]
  },
  {
   "cell_type": "markdown",
   "id": "e56a7742",
   "metadata": {},
   "source": [
    "### Quantizing the Frame Energy (8 pts)"
   ]
  },
  {
   "cell_type": "markdown",
   "id": "50337a90",
   "metadata": {},
   "source": [
    "#### Question 1 (1 pts)\n",
    "\n",
    "Provide a plot of the histogram of the energy parameter.\n",
    "Indicate in the plot the range of the quantizer, i.e., mark the outer boundaries $m\\pm xmax$ (also mark m).\n",
    "Note that the pdf has a non-zero mean."
   ]
  },
  {
   "cell_type": "markdown",
   "id": "1fdbbde4",
   "metadata": {},
   "source": [
    "#### Question 2 (2 pts)\n",
    "\n",
    "Run the vocoder with a uniform scalar energy quantizer according to the design above.\n",
    "Find the rate at which you cannot hear the quantization distortion."
   ]
  },
  {
   "cell_type": "markdown",
   "id": "dd16c88a",
   "metadata": {},
   "source": [
    "#### Question 3 (1 pts)\n",
    "\n",
    "Take the logarithm of the energy parameter prior to quantization (does not matter which base).\n",
    "Provide a plot of the histogram of the energy parameter in the log-domain.\n",
    "Indicate the range of this quantizer as above."
   ]
  },
  {
   "cell_type": "markdown",
   "id": "e9f3124d",
   "metadata": {},
   "source": [
    "#### Question 4 (2 pts)\n",
    "\n",
    "Run the vocoder with a uniform scalar log-energy quantizer according to the design above.\n",
    "Find the rate at which you cannot hear the quantization distortion.\n",
    "Make sure to modify the decoder accordingly (apply the exp function to the quantized log-energy)."
   ]
  },
  {
   "cell_type": "markdown",
   "id": "e7129de5",
   "metadata": {},
   "source": [
    "#### Question 5 (2 pts)\n",
    "\n",
    "Which is better: energy quantization in linear or log domain?"
   ]
  },
  {
   "cell_type": "markdown",
   "id": "747d0e3d",
   "metadata": {},
   "source": [
    "### Quantizing the Pitch and Voiced/Unvoiced Decision (2 pts)"
   ]
  },
  {
   "cell_type": "markdown",
   "id": "51252915",
   "metadata": {},
   "source": [
    "#### Question 1 (2 pts)\n",
    "\n",
    "Come up with an efficient way to encode the pitch and voiced/unvoiced decision."
   ]
  },
  {
   "cell_type": "markdown",
   "id": "85363858",
   "metadata": {},
   "source": [
    "### Quantizing the LP parameters (4 pts)"
   ]
  },
  {
   "cell_type": "markdown",
   "id": "b53e513a",
   "metadata": {},
   "source": [
    "#### Question 1 (4 pts)\n",
    "\n",
    "For the quantization of LP parameters, we will use a vector quantizer (VQ).\n",
    "You do not need to optimize (train) the VQs; that has been done for you, and\n",
    "the codebooks can be found in the given data 'lsfCB1' and 'lsfCB2' in\n",
    "the file assignment2.pkl\n",
    "The codebooks constitute a multistage VQ. \n",
    "`lsfCB1` is a 10 bit VQ optimized on 10 dimensional LSF vectors. \n",
    "`lsfCB2` is a 10 bit second stage residual codebook.\n",
    "You extract these codebooks by calling data['lsfCB1'], data['lsfCB2']\n",
    "\n",
    "What you need to do is to program an encoding function and a corresponding decoding function for a multistage VQ. \n",
    "A suitable calling syntax for these functions can be\n",
    "\n",
    "```python\n",
    "def encodefilter(A, cb1, cb2):\n",
    "    return codeA\n",
    "```\n",
    "\n",
    "```python\n",
    "def decodefilter(codeA, cb1, cb2):\n",
    "    return Aq\n",
    "```\n",
    "\n",
    "Here A is a matrix with filter coefficients stored row-wise, and codeA is a two-column matrix with the corresponding code indices, stored row-wise.\n",
    "\n",
    "Notes:\n",
    "\n",
    "1. To convert between polynomial (a-) coefficients and LSFs see `poly2lsf` and `lsf2poly`. You migh require toolboxes such as https://pyspectrum.readthedocs.io/en/latest/install.html\n",
    "\n",
    "2. `poly2lsf` requires the polynomial coefficients to correspond to a minimum phase whitening filter. \n",
    "This is guaranteed by the autocorrelation LP analysis.\n",
    "`lsf2poly` requires that the LSFs correspond to a minimum phase whitening filter.\n",
    "The multistage VQ can output LSFs that do not satisfy this.\n",
    "As a precaution simply sort the LSFs prior to calling `lsf2poly`.\n",
    "Also check so they are between 0 and $\\pi$."
   ]
  },
  {
   "cell_type": "markdown",
   "id": "a1d0394c",
   "metadata": {},
   "source": [
    "### Optimizing the Bit Allocation (9 pts)\n",
    "\n",
    "Here you experiment a little with the number of bits to use for each parameter.\n",
    "Since you are provided with the LSF codebooks, you cannot experiment with the number of bits spent on LP parameter quantization.\n",
    "LP quantization contributes a lot to the total number of bits, and the choice of LSF codebook size\n",
    "vs. performance is crucial in vocoder design, but here we keep the LSF codebook\n",
    "size fixed.\n",
    "Find a bit allocation (i.e. the number of bits to use in each quantizer) for the energy, pitch, voiced/unvoiced quantizers, such that the quality is the same as when these parameters are unquantized (the effect of the LP parameter quantization is always present)."
   ]
  },
  {
   "cell_type": "markdown",
   "id": "c162165f",
   "metadata": {},
   "source": [
    "#### Question 1 (2 pts)\n",
    "\n",
    "Evaluate the SNR for your design above."
   ]
  },
  {
   "cell_type": "markdown",
   "id": "4da31ff1",
   "metadata": {},
   "source": [
    "#### Question 2 (3 pts)\n",
    "\n",
    "What number of bits do you suggest for the pitch? For the energy? For the\n",
    "voiced/unvoiced decision?"
   ]
  },
  {
   "cell_type": "markdown",
   "id": "b6d9676d",
   "metadata": {},
   "source": [
    "#### Question 3 (2 pts)\n",
    "\n",
    "What is the rate in bits per sample of your vocoder with the bit allocation\n",
    "suggested above? In bits per second?"
   ]
  },
  {
   "cell_type": "markdown",
   "id": "19c51110",
   "metadata": {},
   "source": [
    "#### Question 4 (2 pts)\n",
    "\n",
    "Does it make sense to evaluate SNR here? Why or why not?"
   ]
  },
  {
   "cell_type": "markdown",
   "id": "3c1183f2",
   "metadata": {},
   "source": [
    "## Speech Waveform Quantization (10 pts)"
   ]
  },
  {
   "cell_type": "markdown",
   "id": "6102bf97",
   "metadata": {},
   "source": [
    "#### Uniform Scalar Quantization of Speech\n",
    "\n",
    "We will in the following design our quantizers using $x_{max} = \\sigma_Xk$ , where $\\sigma_X$\n",
    "is the variance of speech and k is an experimentally tuned parameter (here it is tuned to maximize SNR). \n",
    "\n",
    "`k` is rate dependent and the SNR optimal `k` for rates 1 to 16 are\n",
    "```python\n",
    "l=[0.95, 2.1, ?, 4.95, 6.3, 7.65, 8.85, 9.95, 10.6, 11.0, 11.1, 11.2, 11.15, 11.2,\n",
    "11.15, 11.15]\n",
    "```\n",
    "\n",
    "The optimal (in terms of SNR) value for $R = 3$ is to be found experimentally.\n",
    "Run the quantizer with different values of k, and measure the SNR, to find the optimal choice."
   ]
  },
  {
   "cell_type": "markdown",
   "id": "e1bee383",
   "metadata": {},
   "source": [
    "##### Question 1 (2 pts)\n",
    "\n",
    "Evaluate the optimal `k` for $R = 3$."
   ]
  },
  {
   "cell_type": "markdown",
   "id": "2584a1f2",
   "metadata": {},
   "source": [
    "##### Question 2 (2 pts)\n",
    "\n",
    "Run the quantizer at rates [16, 15, 14, . . ., 2, 1], and evaluate the SNR\n",
    "for each rate.\n",
    "Provide a plot of the SNR as a function of rate."
   ]
  },
  {
   "cell_type": "markdown",
   "id": "ac26739f",
   "metadata": {},
   "source": [
    "##### Question 3 (2 pts)\n",
    "\n",
    "Provide a graph of the theoretical SNR in the same plot as the experimental SNR plot.\n",
    "For the theoretical SNR, assume that the number of quantization levels is high, and that overload is negligible."
   ]
  },
  {
   "cell_type": "markdown",
   "id": "0c39fac7",
   "metadata": {},
   "source": [
    "##### Question 4 (1 pts)\n",
    "\n",
    "At what rate can you not tell the difference between the original and the quantized signal?"
   ]
  },
  {
   "cell_type": "markdown",
   "id": "d131ae13",
   "metadata": {},
   "source": [
    "##### Question 5 (1 pts)\n",
    "\n",
    "Listen to the quantization error signal, $q(n)$. \n",
    "How would you characterize $q(n)$ for a system operating at rate $R = 1$.\n",
    "Increase the rate (up to $R \\approx 12$) and describe how the character of $q(n)$ changes."
   ]
  },
  {
   "cell_type": "markdown",
   "id": "29c90e0c",
   "metadata": {},
   "source": [
    "##### Question 6 (OPTIONAL 2 pts)\n",
    "\n",
    "Is it advantageous to have a reconstruction level in the origin for low rates?\n",
    "Compare (by listening) midrise and midtread quantizers at low bit rates."
   ]
  },
  {
   "cell_type": "markdown",
   "id": "0a261ae7",
   "metadata": {},
   "source": [
    "## Adaptive Open-Loop DPCM (13 pts)\n",
    "<img src=\"./openloopdcm.png\" alt=\"alt text\" width=\"800\"/>\n",
    "\n",
    "In this section we will study open-loop Differential Pulse Code Modulation (DPCM).\n",
    "Open loop DPCM can be viewed as pre-filtering, quantization, and post-filtering, see Figure 1 (the adaptation\n",
    "mechanism is not shown). \n",
    "It is called open loop because the quantizer is not part of the prediction loop.\n",
    "\n",
    "We will want to adapt both the LP coefficients and the energy in a forward fashion.\n",
    "See the vocoder section for hints on how to forward adapt those.\n",
    "In general the structure of open loop DPCM is similar to the vocoder structure with\n",
    "one important difference: vocoders create an artificial replica of the prediction\n",
    "error signal $d(n)$ (by estimating voiced/unvoiced, the pitch, energy), whereas\n",
    "open loop DPCM coders quantize each sample of the prediction error signal\n",
    "and thus try to preserve the original waveform. \n",
    "\n",
    "We recommend that you reuse as much as possible of the code from the vocoder."
   ]
  },
  {
   "cell_type": "markdown",
   "id": "8250ed91",
   "metadata": {},
   "source": [
    "#### Question 1 (4 pts)\n",
    "You are not given many guidelines here. Give it your best shot and make\n",
    "sure you can motivate your choice of for example\n",
    "- analysis frame length,\n",
    "- update length (to keep things simple make analysis and update lengths\n",
    "equal, i.e., no overlapping analysis frames),\n",
    "- window function (for the analysis of certain parameters),\n",
    "- number of bits to quantize the energy,\n",
    "- number of bits to quantize the residual,\n",
    "Use the VQ as before to quantize the LP parameters (thus, you need not\n",
    "decide prediction order!).\n",
    "\n",
    "Design the PCM quantizer for the prediction error d(n) according to\n",
    "$x_{max} = k \\sigma_d$ . \n",
    "Optimize k for $R = 3$ (R meaning the rate of the residual quantizer), by experimenting, so that it sounds good, i.e., do not optimize SNR theoretically."
   ]
  },
  {
   "cell_type": "markdown",
   "id": "e655455a",
   "metadata": {},
   "source": [
    "#### Question 2 (1 pts)\n",
    "\n",
    "Run your system at R = 3. \n",
    "How would you characterize the reconstructed speech? What does the quantization error sound like?\n"
   ]
  },
  {
   "cell_type": "markdown",
   "id": "5fe3488d",
   "metadata": {},
   "source": [
    "#### Question 3 (2 pts)\n",
    "\n",
    "What shape does the quantization error spectrum have? \n",
    "Plot a DFT based spectrum of the error for a voiced frame. \n",
    "What does theory say?"
   ]
  },
  {
   "cell_type": "markdown",
   "id": "f2e2c43e",
   "metadata": {},
   "source": [
    "#### Question 4 (2 pts)\n",
    "\n",
    "Measure the SNR of your system. \n",
    "Compare with the SNR of PCM at the same rate.\n",
    "Comments?"
   ]
  },
  {
   "cell_type": "markdown",
   "id": "e8ea96b7",
   "metadata": {},
   "source": [
    "#### Question 5 (2 pts)\n",
    "\n",
    "What is the total rate of your coder in bits per sample? In bits per second?"
   ]
  },
  {
   "cell_type": "markdown",
   "id": "a57afcd0",
   "metadata": {},
   "source": [
    "#### Question 6 (2 pts)\n",
    "\n",
    "Is it better to use the quantized LP coefficients in the encoder filter than to use the unquantized LP coefficients?"
   ]
  }
 ],
 "metadata": {
  "kernelspec": {
   "display_name": "speechproc2022",
   "language": "python",
   "name": "speechproc2022"
  },
  "language_info": {
   "codemirror_mode": {
    "name": "ipython",
    "version": 3
   },
   "file_extension": ".py",
   "mimetype": "text/x-python",
   "name": "python",
   "nbconvert_exporter": "python",
   "pygments_lexer": "ipython3",
   "version": "3.8.10"
  }
 },
 "nbformat": 4,
 "nbformat_minor": 5
}